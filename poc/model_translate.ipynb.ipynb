{
  "nbformat": 4,
  "nbformat_minor": 0,
  "metadata": {
    "colab": {
      "provenance": []
    },
    "kernelspec": {
      "name": "python3",
      "display_name": "Python 3"
    },
    "language_info": {
      "name": "python"
    }
  },
  "cells": [
    {
      "cell_type": "code",
      "execution_count": 3,
      "metadata": {
        "colab": {
          "base_uri": "https://localhost:8080/"
        },
        "id": "EJfUbIfYkh53",
        "outputId": "48e617f3-dee1-44f2-a7e5-e3d3e7a3273d"
      },
      "outputs": [
        {
          "output_type": "stream",
          "name": "stderr",
          "text": [
            "/usr/local/lib/python3.12/dist-packages/transformers/models/marian/tokenization_marian.py:175: UserWarning: Recommended: pip install sacremoses.\n",
            "  warnings.warn(\"Recommended: pip install sacremoses.\")\n",
            "Token indices sequence length is longer than the specified maximum sequence length for this model (513 > 512). Running this sequence through the model will result in indexing errors\n"
          ]
        },
        {
          "output_type": "stream",
          "name": "stdout",
          "text": [
            "Texto original: Candida is a type of fungus that is normally found in small amounts in the human body. Sometimes, too much Candida can grow in the body and cause health problems. This is known as a Candida infection.\n",
            "The name \"invasive Candida infection\" is used when the infection has spread to other parts of the body through the bloodstream. Certain medicines or diseases, like cancer, may make a child more likely to develop an invasive Candida infection.\n",
            "Anidulafungin is a medicine that is currently used to treat Candida infections in adults. This study was designed to learn more about using anidulafungin to treat Candida infections in children. Anidulafungin has not been approved for use in children, as it is still being studied.\n",
            "The main purpose of this study was to learn more about the safety of anidulafungin in children with invasive Candida infection. The researchers wanted to answer this question:\n",
            "• Did the children in this study have any new or worsening medical problems? If so, what new or worsening medical problems did the children have?\n",
            "The researchers also wanted to learn more about how anidulafungin works to treat invasive Candida infection in children. The researchers wanted to answer this question:\n",
            "• How many children were cured or had an improvement in Candida infection?\n",
            "This study was for children who were diagnosed with invasive Candida infection, or who were at high risk for getting an invasive Candida infection. The children in this study were at least 1 month old, but younger than 18 years old when the study started. First, the children were checked by the study doctor to make sure they were a good fit for the study. This was called \"screening\".\n",
            "The children were grouped by age:\n",
            "- Group 1 (19 children): At least 1 month old, but younger than 2 years old\n",
            "- Group 2 (19 children): At least 2 years old, but younger than 5 years old\n",
            "- Group 3 (30 children): At least 5 years old, but younger than 18 years old\n",
            "All the children in this study were given anidulafungin by IV (a needle in the vein), and the doses were based on each child's weight. On the first day of treatment, children were given 3 milligrams (mg) of anidulafungin per kilogram (kg) of weight. From the second day of treatment onwards, children were given 1.5 mg of anidulafungin per kg of weight. Children were supposed to receive anidulafungin for at least 10 days if they had a Candida infection and at least 5 days if they were at high risk of getting a Candida infection. \n",
            "Texto traducido: Candida es un tipo de hongo que normalmente se encuentra en pequeñas cantidades en el cuerpo humano. A veces, demasiado Candida puede crecer en el cuerpo y causar problemas de salud. Esto se conoce como una infección por Candida. El nombre \"infección por Candida invasiva\" se utiliza cuando la infección se ha extendido a otras partes del cuerpo a través del torrente sanguíneo. Ciertos medicamentos o enfermedades, como el cáncer, pueden hacer que un niño más propenso a desarrollar una infección por Candida invasiva. Anidulafungin es un medicamento que actualmente se utiliza para tratar las infecciones por Candida en adultos. Este estudio fue diseñado para aprender más sobre el uso de anidulafungin en niños con infección por Candida invasiva. Los investigadores querían responder a esta pregunta: • ¿Los niños en edad avanzada tenían este estudio más importante o empeoraban problemas médicos? Si así, ¿qué nuevos problemas médicos tenían los niños con infección por Candida? Se suponía que los niños debían recibir anidulafungina por lo menos 10 días si tenían una infección por Candida y por lo menos 5 días si tenían alto riesgo de contraer una infección por Candida.\n"
          ]
        }
      ],
      "source": [
        "from transformers import MarianMTModel, MarianTokenizer\n",
        "\n",
        "# Cargar el modelo y el tokenizador\n",
        "model_name = \"Helsinki-NLP/opus-mt-en-es\"\n",
        "tokenizer = MarianTokenizer.from_pretrained(model_name)\n",
        "model = MarianMTModel.from_pretrained(model_name)\n",
        "\n",
        "# Texto en inglés a traducir\n",
        "texto_ingles = \"\"\"Candida is a type of fungus that is normally found in small amounts in the human body. Sometimes, too much Candida can grow in the body and cause health problems. This is known as a Candida infection.\n",
        "The name \"invasive Candida infection\" is used when the infection has spread to other parts of the body through the bloodstream. Certain medicines or diseases, like cancer, may make a child more likely to develop an invasive Candida infection.\n",
        "Anidulafungin is a medicine that is currently used to treat Candida infections in adults. This study was designed to learn more about using anidulafungin to treat Candida infections in children. Anidulafungin has not been approved for use in children, as it is still being studied.\n",
        "The main purpose of this study was to learn more about the safety of anidulafungin in children with invasive Candida infection. The researchers wanted to answer this question:\n",
        "• Did the children in this study have any new or worsening medical problems? If so, what new or worsening medical problems did the children have?\n",
        "The researchers also wanted to learn more about how anidulafungin works to treat invasive Candida infection in children. The researchers wanted to answer this question:\n",
        "• How many children were cured or had an improvement in Candida infection?\n",
        "This study was for children who were diagnosed with invasive Candida infection, or who were at high risk for getting an invasive Candida infection. The children in this study were at least 1 month old, but younger than 18 years old when the study started. First, the children were checked by the study doctor to make sure they were a good fit for the study. This was called \"screening\".\n",
        "The children were grouped by age:\n",
        "- Group 1 (19 children): At least 1 month old, but younger than 2 years old\n",
        "- Group 2 (19 children): At least 2 years old, but younger than 5 years old\n",
        "- Group 3 (30 children): At least 5 years old, but younger than 18 years old\n",
        "All the children in this study were given anidulafungin by IV (a needle in the vein), and the doses were based on each child's weight. On the first day of treatment, children were given 3 milligrams (mg) of anidulafungin per kilogram (kg) of weight. From the second day of treatment onwards, children were given 1.5 mg of anidulafungin per kg of weight. Children were supposed to receive anidulafungin for at least 10 days if they had a Candida infection and at least 5 days if they were at high risk of getting a Candida infection. \"\"\"\n",
        "\n",
        "# Split the text into chunks that fit within the model's maximum sequence length\n",
        "max_chunk_length = 512\n",
        "words = texto_ingles.split()\n",
        "chunks = []\n",
        "current_chunk = []\n",
        "\n",
        "for word in words:\n",
        "    current_chunk.append(word)\n",
        "    if len(tokenizer(\" \".join(current_chunk), return_tensors=\"pt\").input_ids[0]) > max_chunk_length:\n",
        "        current_chunk.pop() # Remove the last word that exceeded the limit\n",
        "        chunks.append(\" \".join(current_chunk))\n",
        "        current_chunk = [word]\n",
        "\n",
        "if current_chunk:\n",
        "    chunks.append(\" \".join(current_chunk))\n",
        "\n",
        "\n",
        "# Translate each chunk\n",
        "translated_chunks = []\n",
        "for chunk in chunks:\n",
        "    inputs = tokenizer(chunk, return_tensors=\"pt\", padding=True)\n",
        "    translated = model.generate(**inputs)\n",
        "    translated_chunks.append(tokenizer.decode(translated[0], skip_special_tokens=True))\n",
        "\n",
        "# Combine the translated chunks\n",
        "texto_traducido = \" \".join(translated_chunks)\n",
        "\n",
        "\n",
        "print(f\"Texto original: {texto_ingles}\")\n",
        "print(f\"Texto traducido: {texto_traducido}\")"
      ]
    },
    {
      "cell_type": "code",
      "source": [
        "oraciones = texto_traducido.split(\". \")\n",
        "texto_formateado = \"\\n\".join(oraciones)\n",
        "print(\"Texto traducido:\")\n",
        "print(texto_formateado)"
      ],
      "metadata": {
        "colab": {
          "base_uri": "https://localhost:8080/"
        },
        "id": "bLjbieHymeVr",
        "outputId": "33cf0d29-2a8e-4379-8869-3862a0c9a075"
      },
      "execution_count": 7,
      "outputs": [
        {
          "output_type": "stream",
          "name": "stdout",
          "text": [
            "Texto traducido:\n",
            "Candida es un tipo de hongo que normalmente se encuentra en pequeñas cantidades en el cuerpo humano\n",
            "A veces, demasiado Candida puede crecer en el cuerpo y causar problemas de salud\n",
            "Esto se conoce como una infección por Candida\n",
            "El nombre \"infección por Candida invasiva\" se utiliza cuando la infección se ha extendido a otras partes del cuerpo a través del torrente sanguíneo\n",
            "Ciertos medicamentos o enfermedades, como el cáncer, pueden hacer que un niño más propenso a desarrollar una infección por Candida invasiva\n",
            "Anidulafungin es un medicamento que actualmente se utiliza para tratar las infecciones por Candida en adultos\n",
            "Este estudio fue diseñado para aprender más sobre el uso de anidulafungin en niños con infección por Candida invasiva\n",
            "Los investigadores querían responder a esta pregunta: • ¿Los niños en edad avanzada tenían este estudio más importante o empeoraban problemas médicos? Si así, ¿qué nuevos problemas médicos tenían los niños con infección por Candida? Se suponía que los niños debían recibir anidulafungina por lo menos 10 días si tenían una infección por Candida y por lo menos 5 días si tenían alto riesgo de contraer una infección por Candida.\n"
          ]
        }
      ]
    }
  ]
}